{
 "cells": [
  {
   "cell_type": "code",
   "execution_count": 18,
   "metadata": {},
   "outputs": [],
   "source": [
    "from pathlib import Path\n",
    "\n",
    "list1 = []\n",
    "list2 = []\n",
    "\n",
    "\n",
    "def read_lists():\n",
    "    input_path = Path(\"./data.txt\").absolute()\n",
    "    with open(input_path, \"r\") as f:\n",
    "        lines = f.readlines()\n",
    "        for line in lines:\n",
    "            entries = line.strip().split(\"   \")\n",
    "            list1.append(int(entries[0]))\n",
    "            list2.append(int(entries[1]))\n",
    "\n",
    "\n",
    "read_lists()\n",
    "\n",
    "list1.sort()\n",
    "list2.sort()"
   ]
  },
  {
   "cell_type": "code",
   "execution_count": 19,
   "metadata": {},
   "outputs": [
    {
     "name": "stdout",
     "output_type": "stream",
     "text": [
      "1830467\n"
     ]
    }
   ],
   "source": [
    "# PART 1\n",
    "\n",
    "sum = 0\n",
    "\n",
    "for i in range(len(list1)):\n",
    "    sum += abs(list1[i] - list2[i])\n",
    "\n",
    "print(sum)\n"
   ]
  },
  {
   "cell_type": "code",
   "execution_count": 21,
   "metadata": {},
   "outputs": [
    {
     "name": "stdout",
     "output_type": "stream",
     "text": [
      "26674158\n"
     ]
    }
   ],
   "source": [
    "# PART 2\n",
    "\n",
    "list2_item_frequency = {}\n",
    "\n",
    "for i in range(len(list2)):\n",
    "  if list2[i] in list2_item_frequency:\n",
    "    list2_item_frequency[list2[i]] += 1\n",
    "  else:\n",
    "    list2_item_frequency[list2[i]] = 1\n",
    "\n",
    "similarity_score = 0\n",
    "\n",
    "for i in range(len(list1)):\n",
    "  if list1[i] in list2_item_frequency:\n",
    "    similarity_score += list1[i] * list2_item_frequency[list1[i]]\n",
    "\n",
    "print(similarity_score)\n"
   ]
  }
 ],
 "metadata": {
  "kernelspec": {
   "display_name": "Python 3",
   "language": "python",
   "name": "python3"
  },
  "language_info": {
   "codemirror_mode": {
    "name": "ipython",
    "version": 3
   },
   "file_extension": ".py",
   "mimetype": "text/x-python",
   "name": "python",
   "nbconvert_exporter": "python",
   "pygments_lexer": "ipython3",
   "version": "3.10.15"
  }
 },
 "nbformat": 4,
 "nbformat_minor": 2
}
