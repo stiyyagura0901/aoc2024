{
 "cells": [
  {
   "cell_type": "code",
   "execution_count": 1,
   "metadata": {},
   "outputs": [],
   "source": [
    "from pathlib import Path\n",
    "\n",
    "reports = []\n",
    "\n",
    "\n",
    "def read_reports():\n",
    "    input_path = Path(\"./data.txt\").absolute()\n",
    "    with open(input_path, \"r\") as f:\n",
    "        lines = f.readlines()\n",
    "        for line in lines:\n",
    "            report = line.strip().split(\" \")\n",
    "            reports.append(list(map(int, report)))\n",
    "\n",
    "\n",
    "read_reports()"
   ]
  },
  {
   "cell_type": "code",
   "execution_count": 6,
   "metadata": {},
   "outputs": [
    {
     "name": "stdout",
     "output_type": "stream",
     "text": [
      "220\n"
     ]
    }
   ],
   "source": [
    "# PART 1\n",
    "def is_safe_report(report):\n",
    "    order = 'desc' if report[0] > report[1] else 'asc'\n",
    "    \n",
    "    for curr_level, next_level in zip(report, report[1:]):\n",
    "        diff = abs(curr_level - next_level)\n",
    "        \n",
    "        if (diff == 0 or diff > 3 or\n",
    "            (order == \"asc\" and curr_level > next_level) or\n",
    "            (order == \"desc\" and curr_level < next_level)):\n",
    "            return False\n",
    "            \n",
    "    return True\n",
    "\n",
    "safe_reports = sum(1 for report in reports if is_safe_report(report))\n",
    "print(safe_reports)"
   ]
  },
  {
   "cell_type": "code",
   "execution_count": 7,
   "metadata": {},
   "outputs": [
    {
     "name": "stdout",
     "output_type": "stream",
     "text": [
      "296\n"
     ]
    }
   ],
   "source": [
    "def check_saftey(report):\n",
    "    order = 'desc' if report[0] > report[1] else 'asc'\n",
    "    \n",
    "    for curr_level, next_level in zip(report, report[1:]):\n",
    "        diff = abs(curr_level - next_level)\n",
    "        if (diff == 0 or diff > 3 or\n",
    "            (order == \"asc\" and curr_level > next_level) or\n",
    "            (order == \"desc\" and curr_level < next_level)):\n",
    "            return False\n",
    "    return True\n",
    "\n",
    "def is_tol_safe_report(report):\n",
    "    if check_saftey(report):\n",
    "        return True\n",
    "    \n",
    "    for i in range(len(report)):\n",
    "        modified_report = report[:i] + report[i+1:]\n",
    "        if check_saftey(modified_report):\n",
    "            return True\n",
    "            \n",
    "    return False\n",
    "\n",
    "safe_reports = sum(1 for report in reports if is_tol_safe_report(report))\n",
    "print(safe_reports)"
   ]
  }
 ],
 "metadata": {
  "kernelspec": {
   "display_name": "Python 3",
   "language": "python",
   "name": "python3"
  },
  "language_info": {
   "codemirror_mode": {
    "name": "ipython",
    "version": 3
   },
   "file_extension": ".py",
   "mimetype": "text/x-python",
   "name": "python",
   "nbconvert_exporter": "python",
   "pygments_lexer": "ipython3",
   "version": "3.10.15"
  }
 },
 "nbformat": 4,
 "nbformat_minor": 2
}
